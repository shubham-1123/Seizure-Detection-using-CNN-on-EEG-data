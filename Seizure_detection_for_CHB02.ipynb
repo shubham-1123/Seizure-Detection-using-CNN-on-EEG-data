{
  "cells": [
    {
      "cell_type": "code",
      "execution_count": 2,
      "metadata": {
        "id": "CkrhCfn4GvxZ",
        "colab": {
          "base_uri": "https://localhost:8080/"
        },
        "outputId": "f0ec780d-794f-41bd-9d3a-9909c3856296"
      },
      "outputs": [
        {
          "output_type": "stream",
          "name": "stdout",
          "text": [
            "Collecting pyEDFlib\n",
            "  Downloading pyEDFlib-0.1.28-cp37-cp37m-manylinux_2_17_x86_64.manylinux2014_x86_64.whl (2.4 MB)\n",
            "\u001b[K     |████████████████████████████████| 2.4 MB 4.9 MB/s \n",
            "\u001b[?25hRequirement already satisfied: numpy>=1.9.1 in /usr/local/lib/python3.7/dist-packages (from pyEDFlib) (1.21.6)\n",
            "Installing collected packages: pyEDFlib\n",
            "Successfully installed pyEDFlib-0.1.28\n"
          ]
        }
      ],
      "source": [
        "! pip install pyEDFlib"
      ]
    },
    {
      "cell_type": "code",
      "execution_count": 3,
      "metadata": {
        "id": "5MN1OapfHcQe"
      },
      "outputs": [],
      "source": [
        "import pyedflib\n",
        "import numpy as np\n",
        "from scipy import signal\n",
        "from scipy.signal import butter, lfilter\n",
        "import matplotlib.pyplot as plt\n",
        "from datetime import datetime, timedelta\n",
        "import os\n",
        "import warnings \n",
        "import random\n",
        "import collections\n",
        "from PIL import Image\n",
        "from numpy.random import seed \n",
        "\n",
        "warnings.filterwarnings(\"ignore\")"
      ]
    },
    {
      "cell_type": "code",
      "execution_count": 4,
      "metadata": {
        "id": "nxlzEjIyHkqT"
      },
      "outputs": [],
      "source": [
        "from scipy.signal import butter, sosfilt, sosfreqz"
      ]
    },
    {
      "cell_type": "code",
      "execution_count": null,
      "metadata": {
        "id": "m0X0h9n7Hkzx"
      },
      "outputs": [],
      "source": [
        "def butter_bandpass(lowcut, highcut, fs, order=5):\n",
        "        nyq = 0.5 * fs\n",
        "        low = lowcut / nyq\n",
        "        high = highcut / nyq\n",
        "        sos = butter(order, [low, high], analog=False, btype='band', output='sos')\n",
        "        return sos"
      ]
    },
    {
      "cell_type": "code",
      "execution_count": null,
      "metadata": {
        "id": "9MQyBrM8HsFl"
      },
      "outputs": [],
      "source": [
        "def butter_bandpass_filter(data, lowcut, highcut, fs, order=5):\n",
        "        sos = butter_bandpass(lowcut, highcut, fs, order=order)\n",
        "        y = sosfilt(sos, data)\n",
        "        return y"
      ]
    },
    {
      "cell_type": "code",
      "execution_count": null,
      "metadata": {
        "id": "9ar6Ac8LHu9-"
      },
      "outputs": [],
      "source": [
        "lowcut = 0.5\n",
        "highcut = 30\n",
        "fs = 256"
      ]
    },
    {
      "cell_type": "code",
      "execution_count": null,
      "metadata": {
        "id": "906rnLGuHy4X"
      },
      "outputs": [],
      "source": [
        "pathDataSet = '/content/drive/MyDrive/chb_02/'\n",
        "patients = [\"02\"]"
      ]
    },
    {
      "cell_type": "code",
      "execution_count": null,
      "metadata": {
        "id": "5HKHvhjpIGQO"
      },
      "outputs": [],
      "source": [
        "def loadSummaryPatient(index):\n",
        "  f = open(pathDataSet+'chb'+patients[index]+'/chb'+patients[index]+'-summary.txt', 'r')\n",
        "  parent = 'chb'+patients[index]+'/'\n",
        "  return f, parent"
      ]
    },
    {
      "cell_type": "code",
      "execution_count": null,
      "metadata": {
        "id": "LLhMCSf0IJES"
      },
      "outputs": [],
      "source": [
        "def createDataset():\n",
        "\n",
        "    print(\"START \\n\")\n",
        "    for indexPatient in range(0, len(patients)):\n",
        "        # fileList = []\n",
        "    \n",
        "        f, parent = loadSummaryPatient(indexPatient)\n",
        "        line=f.readline()\n",
        "        while (line):\n",
        "            data=line.split(':')\n",
        "            if (data[0]==\"File Name\"):\n",
        "                name_F=data[1].strip()\n",
        "                print(name_F)\n",
        "                for i in range(3):\n",
        "                    line=f.readline()\n",
        "                for j in range(0, int(line.split(': ')[1])):\n",
        "                    secSt=int(f.readline().split(': ')[1].split(' ')[0])\n",
        "                    secEn=int(f.readline().split(': ')[1].split(' ')[0])\n",
        "                    seizureImageGenerate(secSt, secEn, name_F, parent)\n",
        "\n",
        "            line=f.readline()\n",
        "        f.close()\n",
        "\n",
        "    print(\"END \\n\")"
      ]
    },
    {
      "cell_type": "code",
      "execution_count": null,
      "metadata": {
        "id": "X4dYb7R-IP6Z"
      },
      "outputs": [],
      "source": [
        "def seizureImageGenerate(secSt, secEn, name_F, parent):\n",
        "  file1 = pyedflib.EdfReader(pathDataSet+parent+name_F)\n",
        "  n = file1.signals_in_file\n",
        "  # print(n)\n",
        "  signal_labels = file1.getSignalLabels()\n",
        "  signal_headers = file1.getSignalHeaders()\n",
        "  rate = signal_headers[0]['sample_rate']\n",
        "  dur = file1.getFileDuration()\n",
        "  x = np.zeros((n, file1.getNSamples()[0]))\n",
        "  for i in range(n):\n",
        "    x[i,:] = file1.readSignal(i)\n",
        "    # print(x)\n",
        "    label = file1.getLabel(i)\n",
        "  file1.close()\n",
        "  x_filter = butter_bandpass_filter(x ,lowcut , highcut , fs , order = 5)\n",
        "  #a = os.getcwd()\n",
        "  path = '/content/mix_images/'+ parent\n",
        "  if os.path.isdir(path) is not True:\n",
        "    os.makedirs(path)\n",
        "  picnum = int(dur*rate/256)\n",
        "  for i in range(picnum):\n",
        "    img = x_filter[:,i*256:(i+1)*256]\n",
        "    Img = Image.fromarray(np.uint8(img))\n",
        "    if secSt <= i+1 <= secEn: #window size is 1sec\n",
        "      filename = '_time_seizure_'+ str(i)\n",
        "      Img.save(path + name_F.split('.')[0] + filename+'.jpg')\n",
        "    else:\n",
        "      filename = '_time_nonseizure_'+ str(i)\n",
        "      Img.save(path + name_F.split('.')[0] + filename+'.jpg')"
      ]
    },
    {
      "cell_type": "code",
      "execution_count": null,
      "metadata": {
        "colab": {
          "base_uri": "https://localhost:8080/"
        },
        "id": "VDlHhvhDIZnp",
        "outputId": "c66aac7a-c3be-42b7-8619-125d5c7378d4"
      },
      "outputs": [
        {
          "output_type": "stream",
          "name": "stdout",
          "text": [
            "START \n",
            "\n",
            "chb02_01.edf\n",
            "chb02_02.edf\n",
            "chb02_03.edf\n",
            "chb02_04.edf\n",
            "chb02_05.edf\n",
            "chb02_06.edf\n",
            "chb02_07.edf\n",
            "chb02_08.edf\n",
            "chb02_09.edf\n",
            "chb02_10.edf\n",
            "chb02_11.edf\n",
            "chb02_12.edf\n",
            "chb02_13.edf\n",
            "chb02_14.edf\n",
            "chb02_15.edf\n",
            "chb02_16.edf\n",
            "chb02_16+.edf\n",
            "chb02_17.edf\n",
            "chb02_18.edf\n",
            "chb02_19.edf\n",
            "chb02_20.edf\n",
            "chb02_21.edf\n",
            "chb02_22.edf\n",
            "chb02_23.edf\n",
            "chb02_24.edf\n",
            "chb02_25.edf\n",
            "chb02_26.edf\n",
            "chb02_27.edf\n",
            "chb02_28.edf\n",
            "chb02_29.edf\n",
            "chb02_30.edf\n",
            "chb02_31.edf\n",
            "chb02_32.edf\n",
            "chb02_33.edf\n",
            "chb02_34.edf\n",
            "chb02_35.edf\n",
            "END \n",
            "\n"
          ]
        }
      ],
      "source": [
        "createDataset()"
      ]
    },
    {
      "cell_type": "code",
      "execution_count": null,
      "metadata": {
        "id": "KFtRThEkK3TD"
      },
      "outputs": [],
      "source": [
        "def generatePathList(patients, test_size):\n",
        "    parent_path = '/content/mix_images/'\n",
        "    pathList = []\n",
        "    for indexPatient in range(0, len(patients)):\n",
        "        sub_path = 'chb'+patients[indexPatient]+'/'\n",
        "        directory_name = parent_path+sub_path\n",
        "        for filename in os.listdir(directory_name):\n",
        "            pathList.append(directory_name+filename)\n",
        "    L = len(pathList)\n",
        "    test_index = int(L*test_size)\n",
        "    index = random.sample(range(L), L)\n",
        "    return index[:test_index],index[test_index:],pathList\n",
        "\n",
        "class DataGenerator(Sequence):\n",
        "\n",
        "    def __init__(self, index, pathList, parent_path = '/content/mix_images/', batch_size=32):\n",
        "        self.batch_size = batch_size\n",
        "        self.parent_path = parent_path\n",
        "        self.pathList = pathList\n",
        "        self.index = index\n",
        "        self.L = len(self.index)\n",
        "\n",
        "\n",
        "    def __len__(self):\n",
        "        return self.L - self.batch_size\n",
        "\n",
        "    def __getitem__(self, idx):\n",
        "        batch_indexs = self.index[idx:(idx+self.batch_size)]\n",
        "        image_path = [self.pathList[k] for k in batch_indexs]\n",
        "    \n",
        "        return self._load_image(image_path)\n",
        "\n",
        "  \n",
        "    def _load_image(self, image_path):\n",
        "        features = np.zeros(((len(image_path)),23,256))\n",
        "        labels = np.zeros((len(image_path)),dtype=int)\n",
        "        i = 0 #the feature index\n",
        "        for name in image_path:\n",
        "            #print(name)\n",
        "            if '_seizure_' in name:\n",
        "                features[i] = np.array(Image.open(name))[0:23,:]\n",
        "                labels[i] = 1\n",
        "            elif '_nonseizure_' in name:\n",
        "                features[i] = np.array(Image.open(name))[0:23,:]\n",
        "                labels[i] = 0\n",
        "            i = i+1\n",
        "        return np.expand_dims(np.array(features), axis=3),labels"
      ]
    },
    {
      "cell_type": "code",
      "execution_count": 5,
      "metadata": {
        "id": "v5gnj3yEKvDd"
      },
      "outputs": [],
      "source": [
        "import tensorflow\n",
        "from tensorflow import keras \n",
        "from tensorflow.keras.models import Sequential\n",
        "from tensorflow.keras.layers import Dropout, Dense, Activation, Flatten, LSTM, Bidirectional, ConvLSTM2D\n",
        "from tensorflow.keras.layers import Conv2D, MaxPooling2D,GlobalMaxPooling2D, BatchNormalization, TimeDistributed, SimpleRNN, GRU\n",
        "from tensorflow.keras.optimizers import SGD\n",
        "from tensorflow.keras.backend import clear_session"
      ]
    },
    {
      "cell_type": "code",
      "execution_count": 6,
      "metadata": {
        "id": "jGX2qYe0K0Pu"
      },
      "outputs": [],
      "source": [
        "from tensorflow.keras.utils import Sequence\n",
        "from sklearn.model_selection import train_test_split\n",
        "from sklearn.metrics import accuracy_score, confusion_matrix, f1_score, roc_curve, auc, fbeta_score"
      ]
    },
    {
      "cell_type": "code",
      "execution_count": 7,
      "metadata": {
        "id": "M214wt0NK_0O"
      },
      "outputs": [],
      "source": [
        "model = Sequential()\n",
        "\n",
        "model.add(Conv2D(64, (2, 4), input_shape=((23, 256, 1))))\n",
        "model.add(BatchNormalization())\n",
        "model.add(Activation('relu'))\n",
        "model.add(MaxPooling2D(pool_size=(1, 4)))\n",
        "model.add(Dropout(0.15))\n",
        "\n",
        "model.add(Conv2D(32, (2, 4)))\n",
        "model.add(BatchNormalization())\n",
        "model.add(Activation('relu'))\n",
        "model.add(MaxPooling2D(pool_size=(1, 4)))\n",
        "model.add(Dropout(0.15))\n",
        "\n",
        "model.add(Conv2D(32, (2, 4)))\n",
        "model.add(BatchNormalization())\n",
        "model.add(Activation('relu'))\n",
        "model.add(MaxPooling2D(pool_size=(1, 4)))\n",
        "model.add(Dropout(0.15))\n",
        "\n",
        "model.add(TimeDistributed(Flatten()))\n",
        "model.add(Bidirectional(GRU(32)))\n",
        "model.add(Dropout(0.15))\n",
        "\n",
        "model.add(Dense(32, activation='relu'))\n",
        "model.add(Dense(1, activation='sigmoid'))\n",
        "\n",
        "sgd = SGD(lr=0.0001, decay=1e-6, momentum=0.9, nesterov=True)\n",
        "model.compile(metrics=['accuracy',keras.metrics.Recall(name='sen')], \n",
        "              loss='binary_crossentropy', optimizer= 'sgd')"
      ]
    },
    {
      "cell_type": "code",
      "source": [
        "model.summary()"
      ],
      "metadata": {
        "colab": {
          "base_uri": "https://localhost:8080/"
        },
        "id": "3NrcVy7iJwZI",
        "outputId": "4e9aa421-089b-45c8-f655-e9c65755207e"
      },
      "execution_count": 8,
      "outputs": [
        {
          "output_type": "stream",
          "name": "stdout",
          "text": [
            "Model: \"sequential\"\n",
            "_________________________________________________________________\n",
            " Layer (type)                Output Shape              Param #   \n",
            "=================================================================\n",
            " conv2d (Conv2D)             (None, 22, 253, 64)       576       \n",
            "                                                                 \n",
            " batch_normalization (BatchN  (None, 22, 253, 64)      256       \n",
            " ormalization)                                                   \n",
            "                                                                 \n",
            " activation (Activation)     (None, 22, 253, 64)       0         \n",
            "                                                                 \n",
            " max_pooling2d (MaxPooling2D  (None, 22, 63, 64)       0         \n",
            " )                                                               \n",
            "                                                                 \n",
            " dropout (Dropout)           (None, 22, 63, 64)        0         \n",
            "                                                                 \n",
            " conv2d_1 (Conv2D)           (None, 21, 60, 32)        16416     \n",
            "                                                                 \n",
            " batch_normalization_1 (Batc  (None, 21, 60, 32)       128       \n",
            " hNormalization)                                                 \n",
            "                                                                 \n",
            " activation_1 (Activation)   (None, 21, 60, 32)        0         \n",
            "                                                                 \n",
            " max_pooling2d_1 (MaxPooling  (None, 21, 15, 32)       0         \n",
            " 2D)                                                             \n",
            "                                                                 \n",
            " dropout_1 (Dropout)         (None, 21, 15, 32)        0         \n",
            "                                                                 \n",
            " conv2d_2 (Conv2D)           (None, 20, 12, 32)        8224      \n",
            "                                                                 \n",
            " batch_normalization_2 (Batc  (None, 20, 12, 32)       128       \n",
            " hNormalization)                                                 \n",
            "                                                                 \n",
            " activation_2 (Activation)   (None, 20, 12, 32)        0         \n",
            "                                                                 \n",
            " max_pooling2d_2 (MaxPooling  (None, 20, 3, 32)        0         \n",
            " 2D)                                                             \n",
            "                                                                 \n",
            " dropout_2 (Dropout)         (None, 20, 3, 32)         0         \n",
            "                                                                 \n",
            " time_distributed (TimeDistr  (None, 20, 96)           0         \n",
            " ibuted)                                                         \n",
            "                                                                 \n",
            " bidirectional (Bidirectiona  (None, 64)               24960     \n",
            " l)                                                              \n",
            "                                                                 \n",
            " dropout_3 (Dropout)         (None, 64)                0         \n",
            "                                                                 \n",
            " dense (Dense)               (None, 32)                2080      \n",
            "                                                                 \n",
            " dense_1 (Dense)             (None, 1)                 33        \n",
            "                                                                 \n",
            "=================================================================\n",
            "Total params: 52,801\n",
            "Trainable params: 52,545\n",
            "Non-trainable params: 256\n",
            "_________________________________________________________________\n"
          ]
        }
      ]
    },
    {
      "cell_type": "markdown",
      "metadata": {
        "id": "uCygYdMAQ9qy"
      },
      "source": [
        "**Time Domain Images**"
      ]
    },
    {
      "cell_type": "code",
      "execution_count": null,
      "metadata": {
        "id": "X9e4vPmTLE_V"
      },
      "outputs": [],
      "source": [
        "test_id, train_id, path_list = generatePathList(patients,test_size=0.3) # 30% test_size \n",
        "train_data = DataGenerator(train_id, path_list)\n",
        "test_data  =  DataGenerator(test_id, path_list)"
      ]
    },
    {
      "cell_type": "code",
      "execution_count": null,
      "metadata": {
        "colab": {
          "base_uri": "https://localhost:8080/"
        },
        "id": "2SA3VwgILgrW",
        "outputId": "48aefcbe-cd30-438f-c5f2-25b6d39aa942"
      },
      "outputs": [
        {
          "data": {
            "text/plain": [
              "5680"
            ]
          },
          "execution_count": 24,
          "metadata": {},
          "output_type": "execute_result"
        }
      ],
      "source": [
        "len(train_data)"
      ]
    },
    {
      "cell_type": "code",
      "execution_count": null,
      "metadata": {
        "colab": {
          "base_uri": "https://localhost:8080/"
        },
        "id": "jtEKYl6DLkf7",
        "outputId": "820edddb-bc60-4422-b1b5-7e39f71ede72"
      },
      "outputs": [
        {
          "data": {
            "text/plain": [
              "2415"
            ]
          },
          "execution_count": 25,
          "metadata": {},
          "output_type": "execute_result"
        }
      ],
      "source": [
        "len(test_data)"
      ]
    },
    {
      "cell_type": "code",
      "execution_count": null,
      "metadata": {
        "id": "mO-PP6ycLnv8"
      },
      "outputs": [],
      "source": [
        "from tensorflow.keras.callbacks import EarlyStopping\n",
        "early_stop = EarlyStopping(monitor='val_loss', patience=100)"
      ]
    },
    {
      "cell_type": "code",
      "execution_count": null,
      "metadata": {
        "colab": {
          "base_uri": "https://localhost:8080/"
        },
        "id": "Bqvbho_9LvF1",
        "outputId": "1511d487-0449-451d-fed8-d9eed34e6f7a"
      },
      "outputs": [
        {
          "name": "stdout",
          "output_type": "stream",
          "text": [
            "Epoch 1/10\n",
            "5680/5680 [==============================] - 194s 32ms/step - loss: 0.0796 - accuracy: 0.9866 - sen: 0.9911 - val_loss: 0.0278 - val_accuracy: 0.9910 - val_sen: 0.9636\n",
            "Epoch 2/10\n",
            "5680/5680 [==============================] - 178s 31ms/step - loss: 0.0311 - accuracy: 0.9960 - sen: 0.9961 - val_loss: 0.0215 - val_accuracy: 0.9942 - val_sen: 0.8909\n",
            "Epoch 3/10\n",
            "5680/5680 [==============================] - 185s 32ms/step - loss: 0.0180 - accuracy: 0.9973 - sen: 0.9977 - val_loss: 0.0161 - val_accuracy: 0.9954 - val_sen: 0.9636\n",
            "Epoch 4/10\n",
            "5680/5680 [==============================] - 179s 31ms/step - loss: 0.0184 - accuracy: 0.9970 - sen: 0.9979 - val_loss: 0.0181 - val_accuracy: 0.9950 - val_sen: 0.9636\n",
            "Epoch 5/10\n",
            "5680/5680 [==============================] - 178s 31ms/step - loss: 0.0103 - accuracy: 0.9983 - sen: 0.9979 - val_loss: 0.0144 - val_accuracy: 0.9967 - val_sen: 0.9455\n",
            "Epoch 6/10\n",
            "5680/5680 [==============================] - 178s 31ms/step - loss: 0.0059 - accuracy: 0.9989 - sen: 0.9995 - val_loss: 0.0173 - val_accuracy: 0.9963 - val_sen: 0.9273\n",
            "Epoch 7/10\n",
            "5680/5680 [==============================] - 213s 37ms/step - loss: 0.0096 - accuracy: 0.9985 - sen: 0.9992 - val_loss: 0.0198 - val_accuracy: 0.9959 - val_sen: 0.9455\n",
            "Epoch 8/10\n",
            "5680/5680 [==============================] - 185s 32ms/step - loss: 0.0068 - accuracy: 0.9988 - sen: 0.9995 - val_loss: 0.0155 - val_accuracy: 0.9971 - val_sen: 0.9455\n",
            "Epoch 9/10\n",
            "5680/5680 [==============================] - 182s 32ms/step - loss: 0.0039 - accuracy: 0.9992 - sen: 0.9995 - val_loss: 0.0189 - val_accuracy: 0.9975 - val_sen: 0.9455\n",
            "Epoch 10/10\n",
            "5680/5680 [==============================] - 185s 33ms/step - loss: 0.0088 - accuracy: 0.9989 - sen: 0.9987 - val_loss: 0.0196 - val_accuracy: 0.9963 - val_sen: 0.9455\n"
          ]
        }
      ],
      "source": [
        "history = model.fit(train_data, epochs= 10, verbose=1, callbacks=[early_stop], steps_per_epoch=None, \n",
        "                    validation_data=test_data, class_weight={0:1, 1:50}, workers=4, use_multiprocessing=True,\n",
        "                    shuffle=False, initial_epoch=0)"
      ]
    },
    {
      "cell_type": "code",
      "execution_count": null,
      "metadata": {
        "colab": {
          "base_uri": "https://localhost:8080/"
        },
        "id": "qMEuXswkQsMa",
        "outputId": "cd2ba325-483a-43fe-d057-f88a3be0b23b"
      },
      "outputs": [
        {
          "name": "stdout",
          "output_type": "stream",
          "text": [
            "2415/2415 [==============================] - 39s 16ms/step - loss: 0.0196 - accuracy: 0.9963 - sen: 0.9455\n"
          ]
        },
        {
          "data": {
            "text/plain": [
              "[0.019609360024333, 0.9962732791900635, 0.9454545378684998]"
            ]
          },
          "execution_count": 29,
          "metadata": {},
          "output_type": "execute_result"
        }
      ],
      "source": [
        "model.evaluate(test_data, batch_size=32)"
      ]
    },
    {
      "cell_type": "code",
      "execution_count": null,
      "metadata": {
        "id": "BqrVUa0BQwiW"
      },
      "outputs": [],
      "source": [
        "y_pred = model.predict(test_data)\n",
        "y_pred = np.round(y_pred).astype(int)\n",
        "y_val = []\n",
        "for i in range(len(test_data)):\n",
        "  list_val = list(test_data[i])\n",
        "  y_val = np.hstack((y_val,list_val[1]))"
      ]
    },
    {
      "cell_type": "code",
      "execution_count": null,
      "metadata": {
        "colab": {
          "base_uri": "https://localhost:8080/"
        },
        "id": "s9qQEF-6Qyw8",
        "outputId": "7e88e15d-05c7-4708-a527-a47e71ec7a4b"
      },
      "outputs": [
        {
          "name": "stdout",
          "output_type": "stream",
          "text": [
            "accuracy \t 0.9962732919254659\n",
            "sensitivity \t 0.9454545454545454\n",
            "specificity \t 0.997457627118644\n",
            "F1-score \t 0.920353982300885\n"
          ]
        }
      ],
      "source": [
        "tn, fp, fn, tp = confusion_matrix(y_val, y_pred).ravel()\n",
        "print('accuracy \\t', accuracy_score(y_val, y_pred))\n",
        "sensitivity = int(tp)/int(tp+fn)\n",
        "print('sensitivity \\t', sensitivity)\n",
        "specificity = int(tn)/int(fp+tn)\n",
        "print('specificity \\t', specificity)\n",
        "print('F1-score \\t', f1_score(y_val, y_pred))"
      ]
    },
    {
      "cell_type": "code",
      "execution_count": null,
      "metadata": {
        "colab": {
          "base_uri": "https://localhost:8080/",
          "height": 294
        },
        "id": "otE2dJ0gQ3YJ",
        "outputId": "7d08f009-d2d1-4377-f116-8b6211a58d60"
      },
      "outputs": [
        {
          "data": {
            "image/png": "[encoded data removed]",
            "text/plain": [
              "<Figure size 432x288 with 1 Axes>"
            ]
          },
          "metadata": {},
          "output_type": "display_data"
        }
      ],
      "source": [
        "plt.plot(history.history['loss'])\n",
        "plt.plot(history.history['val_loss'])\n",
        "plt.title('Model loss')\n",
        "plt.ylabel('Loss')\n",
        "plt.xlabel('Epoch')\n",
        "plt.legend(['Train', 'Val'], loc='upper right')\n",
        "plt.show()"
      ]
    },
    {
      "cell_type": "code",
      "execution_count": null,
      "metadata": {
        "colab": {
          "base_uri": "https://localhost:8080/",
          "height": 294
        },
        "id": "MPMWqlvGQ4lW",
        "outputId": "42ea7f33-2f32-46e6-c3cb-4ef0a7526c70"
      },
      "outputs": [
        {
          "data": {
            "image/png": "[encoded data removed]",
            "text/plain": [
              "<Figure size 432x288 with 1 Axes>"
            ]
          },
          "metadata": {},
          "output_type": "display_data"
        }
      ],
      "source": [
        "plt.plot(history.history['accuracy'])\n",
        "plt.plot(history.history['val_accuracy'])\n",
        "plt.title('Model accuracy')\n",
        "plt.ylabel('Accuracy')\n",
        "plt.xlabel('Epoch')\n",
        "plt.legend(['Train', 'Val'], loc='lower right')\n",
        "plt.show()"
      ]
    }
  ],
  "metadata": {
    "colab": {
      "machine_shape": "hm",
      "name": "Seizure_detection_for_CHB02.ipynb",
      "provenance": []
    },
    "kernelspec": {
      "display_name": "Python 3",
      "name": "python3"
    },
    "language_info": {
      "name": "python"
    }
  },
  "nbformat": 4,
  "nbformat_minor": 0
}