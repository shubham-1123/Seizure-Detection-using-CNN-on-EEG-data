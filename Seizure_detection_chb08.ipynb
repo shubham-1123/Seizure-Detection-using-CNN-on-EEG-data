{
  "cells": [
    {
      "cell_type": "code",
      "execution_count": null,
      "metadata": {
        "colab": {
          "base_uri": "https://localhost:8080/"
        },
        "id": "WGtTnwQnQIeJ",
        "outputId": "500df842-18dc-463d-8328-9d41fbdefe43"
      },
      "outputs": [
        {
          "name": "stdout",
          "output_type": "stream",
          "text": [
            "Thu Mar 31 06:14:42 2022       \n",
            "+-----------------------------------------------------------------------------+\n",
            "| NVIDIA-SMI 460.32.03    Driver Version: 460.32.03    CUDA Version: 11.2     |\n",
            "|-------------------------------+----------------------+----------------------+\n",
            "| GPU  Name        Persistence-M| Bus-Id        Disp.A | Volatile Uncorr. ECC |\n",
            "| Fan  Temp  Perf  Pwr:Usage/Cap|         Memory-Usage | GPU-Util  Compute M. |\n",
            "|                               |                      |               MIG M. |\n",
            "|===============================+======================+======================|\n",
            "|   0  Tesla P100-PCIE...  Off  | 00000000:00:04.0 Off |                    0 |\n",
            "| N/A   39C    P0    27W / 250W |      0MiB / 16280MiB |      0%      Default |\n",
            "|                               |                      |                  N/A |\n",
            "+-------------------------------+----------------------+----------------------+\n",
            "                                                                               \n",
            "+-----------------------------------------------------------------------------+\n",
            "| Processes:                                                                  |\n",
            "|  GPU   GI   CI        PID   Type   Process name                  GPU Memory |\n",
            "|        ID   ID                                                   Usage      |\n",
            "|=============================================================================|\n",
            "|  No running processes found                                                 |\n",
            "+-----------------------------------------------------------------------------+\n"
          ]
        }
      ],
      "source": [
        "!nvidia-smi"
      ]
    },
    {
      "cell_type": "code",
      "execution_count": 1,
      "metadata": {
        "id": "F0ZmICL5etZt",
        "colab": {
          "base_uri": "https://localhost:8080/"
        },
        "outputId": "7bbdd4ae-0a9e-4a09-c2eb-24b188abe0df"
      },
      "outputs": [
        {
          "output_type": "stream",
          "name": "stdout",
          "text": [
            "Collecting pyEDFlib\n",
            "  Downloading pyEDFlib-0.1.28-cp37-cp37m-manylinux_2_17_x86_64.manylinux2014_x86_64.whl (2.4 MB)\n",
            "\u001b[K     |████████████████████████████████| 2.4 MB 5.1 MB/s \n",
            "\u001b[?25hRequirement already satisfied: numpy>=1.9.1 in /usr/local/lib/python3.7/dist-packages (from pyEDFlib) (1.21.6)\n",
            "Installing collected packages: pyEDFlib\n",
            "Successfully installed pyEDFlib-0.1.28\n"
          ]
        }
      ],
      "source": [
        "! pip install pyEDFlib"
      ]
    },
    {
      "cell_type": "code",
      "execution_count": 2,
      "metadata": {
        "id": "OIEtJnFFewyR"
      },
      "outputs": [],
      "source": [
        "import pyedflib\n",
        "import numpy as np\n",
        "from scipy import signal\n",
        "from scipy.signal import butter, lfilter\n",
        "import matplotlib.pyplot as plt\n",
        "from datetime import datetime, timedelta\n",
        "import os\n",
        "import warnings \n",
        "import random\n",
        "import collections\n",
        "from PIL import Image\n",
        "from numpy.random import seed \n",
        "\n",
        "warnings.filterwarnings(\"ignore\")"
      ]
    },
    {
      "cell_type": "code",
      "execution_count": null,
      "metadata": {
        "id": "0mEE8gUText5"
      },
      "outputs": [],
      "source": [
        "from scipy.signal import butter, sosfilt, sosfreqz"
      ]
    },
    {
      "cell_type": "code",
      "execution_count": null,
      "metadata": {
        "id": "6YuChxjke04P"
      },
      "outputs": [],
      "source": [
        "def butter_bandpass(lowcut, highcut, fs, order=5):\n",
        "        nyq = 0.5 * fs\n",
        "        low = lowcut / nyq\n",
        "        high = highcut / nyq\n",
        "        sos = butter(order, [low, high], analog=False, btype='band', output='sos')\n",
        "        return sos"
      ]
    },
    {
      "cell_type": "code",
      "execution_count": null,
      "metadata": {
        "id": "4-t344hhe3bg"
      },
      "outputs": [],
      "source": [
        "def butter_bandpass_filter(data, lowcut, highcut, fs, order=5):\n",
        "        sos = butter_bandpass(lowcut, highcut, fs, order=order)\n",
        "        y = sosfilt(sos, data)\n",
        "        return y"
      ]
    },
    {
      "cell_type": "code",
      "execution_count": null,
      "metadata": {
        "id": "QFSssn2Qe6De"
      },
      "outputs": [],
      "source": [
        "lowcut = 0.5\n",
        "highcut = 30\n",
        "fs = 256"
      ]
    },
    {
      "cell_type": "code",
      "execution_count": null,
      "metadata": {
        "id": "6zocBBkhe8Ta"
      },
      "outputs": [],
      "source": [
        "pathDataSet = '/content/drive/MyDrive/chb_08/'\n",
        "patients = [\"08\"]"
      ]
    },
    {
      "cell_type": "code",
      "execution_count": null,
      "metadata": {
        "id": "UzxM3kWkfPU3"
      },
      "outputs": [],
      "source": [
        "def loadSummaryPatient(index):\n",
        "  f = open(pathDataSet+'chb'+patients[index]+'/chb'+patients[index]+'-summary.txt', 'r')\n",
        "  parent = 'chb'+patients[index]+'/'\n",
        "  return f, parent"
      ]
    },
    {
      "cell_type": "code",
      "execution_count": null,
      "metadata": {
        "id": "zP5j9wAZfWNr"
      },
      "outputs": [],
      "source": [
        "def createDataset():\n",
        "\n",
        "    print(\"START \\n\")\n",
        "    for indexPatient in range(0, len(patients)):\n",
        "        # fileList = []\n",
        "    \n",
        "        f, parent = loadSummaryPatient(indexPatient)\n",
        "        line=f.readline()\n",
        "        while (line):\n",
        "            data=line.split(':')\n",
        "            if (data[0]==\"File Name\"):\n",
        "                name_F=data[1].strip()\n",
        "                print(name_F)\n",
        "                for i in range(3):\n",
        "                    line=f.readline()\n",
        "                for j in range(0, int(line.split(': ')[1])):\n",
        "                    secSt=int(f.readline().split(': ')[1].split(' ')[0])\n",
        "                    secEn=int(f.readline().split(': ')[1].split(' ')[0])\n",
        "                    seizureImageGenerate(secSt, secEn, name_F, parent)\n",
        "\n",
        "            line=f.readline()\n",
        "        f.close()\n",
        "\n",
        "    print(\"END \\n\")"
      ]
    },
    {
      "cell_type": "code",
      "execution_count": null,
      "metadata": {
        "id": "0sFcnHqcfZAJ"
      },
      "outputs": [],
      "source": [
        "def seizureImageGenerate(secSt, secEn, name_F, parent):\n",
        "  file1 = pyedflib.EdfReader(pathDataSet+parent+name_F)\n",
        "  n = file1.signals_in_file\n",
        "  # print(n)\n",
        "  signal_labels = file1.getSignalLabels()\n",
        "  signal_headers = file1.getSignalHeaders()\n",
        "  rate = signal_headers[0]['sample_rate']\n",
        "  dur = file1.getFileDuration()\n",
        "  x = np.zeros((n, file1.getNSamples()[0]))\n",
        "  for i in range(n):\n",
        "    x[i,:] = file1.readSignal(i)\n",
        "    # print(x)\n",
        "    label = file1.getLabel(i)\n",
        "  file1.close()\n",
        "  x_filter = butter_bandpass_filter(x ,lowcut , highcut , fs , order = 5)\n",
        "  #a = os.getcwd()\n",
        "  path = '/content/mix/'+ parent\n",
        "  if os.path.isdir(path) is not True:\n",
        "    os.makedirs(path)\n",
        "  picnum = int(dur*rate/256)\n",
        "  for i in range(picnum):\n",
        "    img = x_filter[:,i*256:(i+1)*256]\n",
        "    Img = Image.fromarray(np.uint8(img))\n",
        "    if secSt <= i+1 <= secEn: #window size is 1sec\n",
        "      filename = '_time_seizure_'+ str(i)\n",
        "      Img.save(path + name_F.split('.')[0] + filename+'.jpg')\n",
        "    else:\n",
        "      filename = '_time_nonseizure_'+ str(i)\n",
        "      Img.save(path + name_F.split('.')[0] + filename+'.jpg')"
      ]
    },
    {
      "cell_type": "code",
      "execution_count": null,
      "metadata": {
        "colab": {
          "background_save": true,
          "base_uri": "https://localhost:8080/"
        },
        "id": "9r46rZezflZQ",
        "outputId": "fb59cda3-48cc-4305-a788-621cb454b0a7"
      },
      "outputs": [
        {
          "name": "stdout",
          "output_type": "stream",
          "text": [
            "START \n",
            "\n",
            "chb08_02.edf\n",
            "chb08_03.edf\n",
            "chb08_04.edf\n",
            "chb08_05.edf\n",
            "chb08_10.edf\n",
            "chb08_11.edf\n",
            "chb08_12.edf\n",
            "chb08_13.edf\n",
            "chb08_14.edf\n",
            "chb08_15.edf\n",
            "chb08_16.edf\n",
            "chb08_17.edf\n",
            "chb08_18.edf\n",
            "chb08_19.edf\n",
            "chb08_20.edf\n",
            "chb08_21.edf\n",
            "chb08_22.edf\n",
            "chb08_23.edf\n",
            "chb08_24.edf\n",
            "chb08_29.edf\n",
            "END \n",
            "\n"
          ]
        }
      ],
      "source": [
        "createDataset()"
      ]
    },
    {
      "cell_type": "code",
      "execution_count": null,
      "metadata": {
        "id": "U8oKog-5g6Dg"
      },
      "outputs": [],
      "source": [
        "def generatePathList(patients, test_size):\n",
        "    parent_path = '/content/freq/'\n",
        "    pathList = []\n",
        "    for indexPatient in range(0, len(patients)):\n",
        "        sub_path = 'chb'+patients[indexPatient]+'/'\n",
        "        directory_name = parent_path+sub_path\n",
        "        for filename in os.listdir(directory_name):\n",
        "            pathList.append(directory_name+filename)\n",
        "    L = len(pathList)\n",
        "    test_index = int(L*test_size)\n",
        "    index = random.sample(range(L), L)\n",
        "    return index[:test_index],index[test_index:],pathList\n",
        "\n",
        "class DataGenerator(Sequence):\n",
        "\n",
        "    def __init__(self, index, pathList, parent_path = '/content/freq/', batch_size=32):\n",
        "        self.batch_size = batch_size\n",
        "        self.parent_path = parent_path\n",
        "        self.pathList = pathList\n",
        "        self.index = index\n",
        "        self.L = len(self.index)\n",
        "\n",
        "\n",
        "    def __len__(self):\n",
        "        return self.L - self.batch_size\n",
        "\n",
        "    def __getitem__(self, idx):\n",
        "        batch_indexs = self.index[idx:(idx+self.batch_size)]\n",
        "        image_path = [self.pathList[k] for k in batch_indexs]\n",
        "    \n",
        "        return self._load_image(image_path)\n",
        "\n",
        "  \n",
        "    def _load_image(self, image_path):\n",
        "        features = np.zeros(((len(image_path)),23,256))\n",
        "        labels = np.zeros((len(image_path)),dtype=int)\n",
        "        i = 0 #the feature index\n",
        "        for name in image_path:\n",
        "            #print(name)\n",
        "            if '_seizure_' in name:\n",
        "                features[i] = np.array(Image.open(name))[0:23,:]\n",
        "                labels[i] = 1\n",
        "            elif '_nonseizure_' in name:\n",
        "                features[i] = np.array(Image.open(name))[0:23,:]\n",
        "                labels[i] = 0\n",
        "            i = i+1\n",
        "        #print(features)\n",
        "        #print(labels)\n",
        "        #print(np.expand_dims(np.array(features), axis=3).shape)\n",
        "        #print(labels.shape)\n",
        "        return np.expand_dims(np.array(features), axis=3),labels"
      ]
    },
    {
      "cell_type": "code",
      "execution_count": 3,
      "metadata": {
        "id": "F0uc8idEg0A-"
      },
      "outputs": [],
      "source": [
        "import tensorflow\n",
        "from tensorflow import keras \n",
        "from tensorflow.keras.models import Sequential\n",
        "from tensorflow.keras.layers import Dropout, Dense, Activation, Flatten, LSTM, Bidirectional, ConvLSTM2D\n",
        "from tensorflow.keras.layers import Conv2D, MaxPooling2D,GlobalMaxPooling2D, BatchNormalization, TimeDistributed, SimpleRNN, GRU\n",
        "from tensorflow.keras.optimizers import SGD\n",
        "from tensorflow.keras.backend import clear_session"
      ]
    },
    {
      "cell_type": "code",
      "execution_count": 4,
      "metadata": {
        "id": "q7Kc9Qabg3IO"
      },
      "outputs": [],
      "source": [
        "from tensorflow.keras.utils import Sequence\n",
        "from sklearn.model_selection import train_test_split\n",
        "from sklearn.metrics import accuracy_score, confusion_matrix, f1_score, roc_curve, auc, fbeta_score"
      ]
    },
    {
      "cell_type": "code",
      "execution_count": 5,
      "metadata": {
        "id": "O_NzV9gBg_Fm"
      },
      "outputs": [],
      "source": [
        "model = Sequential()\n",
        "\n",
        "model.add(Conv2D(64, (2, 4), input_shape=((23, 256, 1))))\n",
        "model.add(BatchNormalization())\n",
        "model.add(Activation('relu'))\n",
        "model.add(MaxPooling2D(pool_size=(1, 4)))\n",
        "model.add(Dropout(0.15))\n",
        "\n",
        "model.add(Conv2D(32, (2, 4)))\n",
        "model.add(BatchNormalization())\n",
        "model.add(Activation('relu'))\n",
        "model.add(MaxPooling2D(pool_size=(1, 4)))\n",
        "model.add(Dropout(0.15))\n",
        "\n",
        "model.add(Conv2D(32, (2, 4)))\n",
        "model.add(BatchNormalization())\n",
        "model.add(Activation('relu'))\n",
        "model.add(MaxPooling2D(pool_size=(1, 4)))\n",
        "model.add(Dropout(0.15))\n",
        "\n",
        "model.add(TimeDistributed(Flatten()))\n",
        "model.add(Bidirectional(GRU(32)))\n",
        "model.add(Dropout(0.15))\n",
        "\n",
        "model.add(Dense(32, activation='relu'))\n",
        "model.add(Dense(1, activation='sigmoid'))\n",
        "\n",
        "sgd = SGD(lr=0.0001, decay=1e-6, momentum=0.9, nesterov=True)\n",
        "model.compile(metrics=['accuracy',keras.metrics.Recall(name='sen')], \n",
        "              loss='binary_crossentropy', optimizer= 'sgd')"
      ]
    },
    {
      "cell_type": "code",
      "source": [
        "model.summary()"
      ],
      "metadata": {
        "colab": {
          "base_uri": "https://localhost:8080/"
        },
        "id": "ztIDlXesijAq",
        "outputId": "914a419f-96b6-418b-dc47-cd8a4461bb0e"
      },
      "execution_count": null,
      "outputs": [
        {
          "output_type": "stream",
          "name": "stdout",
          "text": [
            "Model: \"sequential\"\n",
            "_________________________________________________________________\n",
            " Layer (type)                Output Shape              Param #   \n",
            "=================================================================\n",
            " conv2d (Conv2D)             (None, 22, 253, 64)       576       \n",
            "                                                                 \n",
            " batch_normalization (BatchN  (None, 22, 253, 64)      256       \n",
            " ormalization)                                                   \n",
            "                                                                 \n",
            " activation (Activation)     (None, 22, 253, 64)       0         \n",
            "                                                                 \n",
            " max_pooling2d (MaxPooling2D  (None, 22, 63, 64)       0         \n",
            " )                                                               \n",
            "                                                                 \n",
            " dropout (Dropout)           (None, 22, 63, 64)        0         \n",
            "                                                                 \n",
            " conv2d_1 (Conv2D)           (None, 21, 60, 32)        16416     \n",
            "                                                                 \n",
            " batch_normalization_1 (Batc  (None, 21, 60, 32)       128       \n",
            " hNormalization)                                                 \n",
            "                                                                 \n",
            " activation_1 (Activation)   (None, 21, 60, 32)        0         \n",
            "                                                                 \n",
            " max_pooling2d_1 (MaxPooling  (None, 21, 15, 32)       0         \n",
            " 2D)                                                             \n",
            "                                                                 \n",
            " dropout_1 (Dropout)         (None, 21, 15, 32)        0         \n",
            "                                                                 \n",
            " conv2d_2 (Conv2D)           (None, 20, 12, 32)        8224      \n",
            "                                                                 \n",
            " batch_normalization_2 (Batc  (None, 20, 12, 32)       128       \n",
            " hNormalization)                                                 \n",
            "                                                                 \n",
            " activation_2 (Activation)   (None, 20, 12, 32)        0         \n",
            "                                                                 \n",
            " max_pooling2d_2 (MaxPooling  (None, 20, 3, 32)        0         \n",
            " 2D)                                                             \n",
            "                                                                 \n",
            " dropout_2 (Dropout)         (None, 20, 3, 32)         0         \n",
            "                                                                 \n",
            " time_distributed (TimeDistr  (None, 20, 96)           0         \n",
            " ibuted)                                                         \n",
            "                                                                 \n",
            " bidirectional (Bidirectiona  (None, 64)               24960     \n",
            " l)                                                              \n",
            "                                                                 \n",
            " dropout_3 (Dropout)         (None, 64)                0         \n",
            "                                                                 \n",
            " dense (Dense)               (None, 32)                2080      \n",
            "                                                                 \n",
            " dense_1 (Dense)             (None, 1)                 33        \n",
            "                                                                 \n",
            "=================================================================\n",
            "Total params: 52,801\n",
            "Trainable params: 52,545\n",
            "Non-trainable params: 256\n",
            "_________________________________________________________________\n"
          ]
        }
      ]
    },
    {
      "cell_type": "markdown",
      "metadata": {
        "id": "Hn7KsiQkhFR4"
      },
      "source": [
        "**Model Training**"
      ]
    },
    {
      "cell_type": "code",
      "execution_count": null,
      "metadata": {
        "id": "xJMFWu27hCbS"
      },
      "outputs": [],
      "source": [
        "test_id, train_id, path_list = generatePathList(patients,test_size=0.3) # 30% test_size \n",
        "train_data = DataGenerator(train_id, path_list)\n",
        "test_data  =  DataGenerator(test_id, path_list)"
      ]
    },
    {
      "cell_type": "code",
      "execution_count": null,
      "metadata": {
        "colab": {
          "base_uri": "https://localhost:8080/"
        },
        "id": "vODfvvH9hKdF",
        "outputId": "5fceb970-f71a-4163-8e95-2298de42236e"
      },
      "outputs": [
        {
          "data": {
            "text/plain": [
              "12568"
            ]
          },
          "execution_count": 18,
          "metadata": {},
          "output_type": "execute_result"
        }
      ],
      "source": [
        "len(train_data)"
      ]
    },
    {
      "cell_type": "code",
      "execution_count": null,
      "metadata": {
        "colab": {
          "base_uri": "https://localhost:8080/"
        },
        "id": "qG_H3MdthMOA",
        "outputId": "36145626-2ee0-40df-8a07-a87133240cf8"
      },
      "outputs": [
        {
          "data": {
            "text/plain": [
              "5368"
            ]
          },
          "execution_count": 19,
          "metadata": {},
          "output_type": "execute_result"
        }
      ],
      "source": [
        "len(test_data)"
      ]
    },
    {
      "cell_type": "code",
      "execution_count": null,
      "metadata": {
        "id": "E0a-gtWuhOgN"
      },
      "outputs": [],
      "source": [
        "from tensorflow.keras.callbacks import EarlyStopping\n",
        "early_stop = EarlyStopping(monitor='val_loss', patience=100)"
      ]
    },
    {
      "cell_type": "code",
      "execution_count": null,
      "metadata": {
        "colab": {
          "base_uri": "https://localhost:8080/"
        },
        "id": "lwEX2ihShR5V",
        "outputId": "7363ff40-855c-4c3a-d9e4-fe69b8b9e02d"
      },
      "outputs": [
        {
          "name": "stdout",
          "output_type": "stream",
          "text": [
            "Epoch 1/10\n",
            "12568/12568 [==============================] - 255s 19ms/step - loss: 0.2283 - accuracy: 0.9647 - sen: 0.9882 - val_loss: 0.1719 - val_accuracy: 0.9515 - val_sen: 0.8594\n",
            "Epoch 2/10\n",
            "12568/12568 [==============================] - 238s 19ms/step - loss: 0.1880 - accuracy: 0.9723 - sen: 0.9901 - val_loss: 0.1435 - val_accuracy: 0.9652 - val_sen: 0.8335\n",
            "Epoch 3/10\n",
            "12568/12568 [==============================] - 240s 19ms/step - loss: 0.1557 - accuracy: 0.9765 - sen: 0.9914 - val_loss: 0.1125 - val_accuracy: 0.9746 - val_sen: 0.7686\n",
            "Epoch 4/10\n",
            "12568/12568 [==============================] - 239s 19ms/step - loss: 0.1233 - accuracy: 0.9798 - sen: 0.9934 - val_loss: 0.1067 - val_accuracy: 0.9754 - val_sen: 0.7542\n",
            "Epoch 5/10\n",
            "12568/12568 [==============================] - 242s 19ms/step - loss: 0.0999 - accuracy: 0.9830 - sen: 0.9941 - val_loss: 0.1213 - val_accuracy: 0.9718 - val_sen: 0.7866\n",
            "Epoch 6/10\n",
            "12568/12568 [==============================] - 240s 19ms/step - loss: 0.0901 - accuracy: 0.9842 - sen: 0.9952 - val_loss: 0.1281 - val_accuracy: 0.9700 - val_sen: 0.8083\n",
            "Epoch 7/10\n",
            "12568/12568 [==============================] - 241s 19ms/step - loss: 0.0751 - accuracy: 0.9858 - sen: 0.9962 - val_loss: 0.1364 - val_accuracy: 0.9723 - val_sen: 0.7938\n",
            "Epoch 8/10\n",
            "12568/12568 [==============================] - 239s 19ms/step - loss: 0.0715 - accuracy: 0.9868 - sen: 0.9965 - val_loss: 0.1287 - val_accuracy: 0.9730 - val_sen: 0.7938\n",
            "Epoch 9/10\n",
            "12568/12568 [==============================] - 239s 19ms/step - loss: 0.0613 - accuracy: 0.9884 - sen: 0.9968 - val_loss: 0.1246 - val_accuracy: 0.9717 - val_sen: 0.8155\n",
            "Epoch 10/10\n",
            "12568/12568 [==============================] - 240s 19ms/step - loss: 0.0573 - accuracy: 0.9887 - sen: 0.9971 - val_loss: 0.1328 - val_accuracy: 0.9741 - val_sen: 0.7506\n"
          ]
        }
      ],
      "source": [
        "history = model.fit(train_data, epochs= 10, verbose=1, callbacks=[early_stop], steps_per_epoch=None, \n",
        "                    validation_data=test_data, class_weight={0:1, 1:50}, workers=4, use_multiprocessing=True,\n",
        "                    shuffle=False, initial_epoch=0)"
      ]
    },
    {
      "cell_type": "code",
      "execution_count": null,
      "metadata": {
        "colab": {
          "base_uri": "https://localhost:8080/"
        },
        "id": "-P_02N4KV6v-",
        "outputId": "234bbbd0-99ce-4402-9134-f0cfc2b049df"
      },
      "outputs": [
        {
          "name": "stdout",
          "output_type": "stream",
          "text": [
            "5368/5368 [==============================] - 50s 9ms/step - loss: 0.1328 - accuracy: 0.9741 - sen: 0.7506\n"
          ]
        },
        {
          "data": {
            "text/plain": [
              "[0.1327599138021469, 0.9741465449333191, 0.7505913972854614]"
            ]
          },
          "execution_count": 24,
          "metadata": {},
          "output_type": "execute_result"
        }
      ],
      "source": [
        "model.evaluate(test_data, batch_size=32)"
      ]
    },
    {
      "cell_type": "code",
      "execution_count": null,
      "metadata": {
        "id": "JojGg7TBV9RN"
      },
      "outputs": [],
      "source": [
        "y_pred = model.predict(test_data)\n",
        "y_pred = np.round(y_pred).astype(int)\n",
        "y_val = []\n",
        "for i in range(len(test_data)):\n",
        "  list_val = list(test_data[i])\n",
        "  y_val = np.hstack((y_val,list_val[1]))"
      ]
    },
    {
      "cell_type": "code",
      "execution_count": null,
      "metadata": {
        "colab": {
          "base_uri": "https://localhost:8080/"
        },
        "id": "rmZrgqXoWAx3",
        "outputId": "fbc785b2-aec2-44d1-f7c3-192d955b973b"
      },
      "outputs": [
        {
          "name": "stdout",
          "output_type": "stream",
          "text": [
            "accuracy \t 0.9741465629657228\n",
            "sensitivity \t 0.7505914160189253\n",
            "specificity \t 0.9863289522955943\n",
            "F1-score \t 0.7500422130916868\n"
          ]
        }
      ],
      "source": [
        "tn, fp, fn, tp = confusion_matrix(y_val, y_pred).ravel()\n",
        "print('accuracy \\t', accuracy_score(y_val, y_pred))\n",
        "sensitivity = int(tp)/int(tp+fn)\n",
        "print('sensitivity \\t', sensitivity)\n",
        "specificity = int(tn)/int(fp+tn)\n",
        "print('specificity \\t', specificity)\n",
        "print('F1-score \\t', f1_score(y_val, y_pred))"
      ]
    },
    {
      "cell_type": "code",
      "execution_count": null,
      "metadata": {
        "colab": {
          "base_uri": "https://localhost:8080/",
          "height": 294
        },
        "id": "7AwbDjTuWDgH",
        "outputId": "6bacb1b1-5cfe-4df7-a4be-045eefa8ceb1"
      },
      "outputs": [
        {
          "data": {
            "image/png": "[encoded data removed]",
            "text/plain": [
              "<Figure size 432x288 with 1 Axes>"
            ]
          },
          "metadata": {},
          "output_type": "display_data"
        }
      ],
      "source": [
        "plt.plot(history.history['loss'])\n",
        "plt.plot(history.history['val_loss'])\n",
        "plt.title('Model loss')\n",
        "plt.ylabel('Loss')\n",
        "plt.xlabel('Epoch')\n",
        "plt.legend(['Train', 'Val'], loc='upper right')\n",
        "plt.show()"
      ]
    },
    {
      "cell_type": "code",
      "execution_count": null,
      "metadata": {
        "colab": {
          "base_uri": "https://localhost:8080/",
          "height": 294
        },
        "id": "Jt5HyW16WHpU",
        "outputId": "933687f9-5fea-499e-d217-2fdbace26029"
      },
      "outputs": [
        {
          "data": {
            "image/png": "[encoded data removed]",
            "text/plain": [
              "<Figure size 432x288 with 1 Axes>"
            ]
          },
          "metadata": {},
          "output_type": "display_data"
        }
      ],
      "source": [
        "plt.plot(history.history['accuracy'])\n",
        "plt.plot(history.history['val_accuracy'])\n",
        "plt.title('Model accuracy')\n",
        "plt.ylabel('Accuracy')\n",
        "plt.xlabel('Epoch')\n",
        "plt.legend(['Train', 'Val'], loc='lower right')\n",
        "plt.show()"
      ]
    }
  ],
  "metadata": {
    "colab": {
      "machine_shape": "hm",
      "name": "Seizure_detection_chb08.ipynb",
      "provenance": []
    },
    "kernelspec": {
      "display_name": "Python 3",
      "name": "python3"
    },
    "language_info": {
      "name": "python"
    }
  },
  "nbformat": 4,
  "nbformat_minor": 0
}